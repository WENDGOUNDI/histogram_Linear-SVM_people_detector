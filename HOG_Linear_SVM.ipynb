{
 "cells": [
  {
   "cell_type": "code",
   "execution_count": 1,
   "id": "9d31dba4",
   "metadata": {},
   "outputs": [],
   "source": [
    "from __future__ import print_function # to ensure our code run normaly in python 2.7 and 3\n",
    "from imutils.object_detection import non_max_suppression\n",
    "from imutils import paths\n",
    "import numpy as np\n",
    "import imutils\n",
    "import cv2"
   ]
  },
  {
   "cell_type": "code",
   "execution_count": 2,
   "id": "0c757a35",
   "metadata": {},
   "outputs": [],
   "source": [
    "hog = cv2.HOGDescriptor() # Initialize HOG\n",
    "hog.setSVMDetector(cv2.HOGDescriptor_getDefaultPeopleDetector()) # Set SVM to be pretrained on  pedestrian detector"
   ]
  },
  {
   "cell_type": "code",
   "execution_count": 4,
   "id": "675275b5",
   "metadata": {},
   "outputs": [],
   "source": [
    "# Read the video\n",
    "cap = cv2.VideoCapture(\"video/video4.mp4\")\n",
    "\n",
    "# Get frame width and height\n",
    "width = int(cap.get(cv2.CAP_PROP_FRAME_WIDTH) + 0.5)\n",
    "height = int(cap.get(cv2.CAP_PROP_FRAME_HEIGHT) + 0.5)\n",
    "# define the frame size variable\n",
    "size = (width, height)\n",
    "# Set video saving parameters\n",
    "fourcc = cv2.VideoWriter_fourcc(*'XVID')\n",
    "out = cv2.VideoWriter('your_video_4.avi', fourcc, 20.0, size)\n",
    "\n",
    "while True:\n",
    "    ret, frame = cap.read()\n",
    "    \n",
    "    if frame is None:\n",
    "        break\n",
    "        \n",
    "    frame = cv2.resize(frame, (width, height))\n",
    "    #frame = cv2.cvtColor(frame, cv2.COLOR_BGR2GRAY)\n",
    "    \n",
    "    # Detect people in the image\n",
    "    (boxes, weights) = hog.detectMultiScale(frame, winStride=(8,8), padding=(4,4), scale=1.1)\n",
    "    \n",
    "    # Loop through the original bounding boxes\n",
    "    for (x,y,w,h) in boxes:\n",
    "        \n",
    "        # Application of non-maxima suppression to get accurate bounidng boxes \n",
    "        boxes = np.array([[x,y,x+w, y+h] for (x,y,w, h) in boxes])\n",
    "        # Apply non-maxima suppression\n",
    "        NMS = non_max_suppression(boxes, probs=None, overlapThresh=0.65)\n",
    "        \n",
    "        for (xA, yA, xB, yB) in NMS:\n",
    "            cv2.rectangle(frame, (xA, yA), (xB, yB), (0,244,0), 2)\n",
    "            \n",
    "        # Write the output video \n",
    "        #out.write(frame.astype('uint8'))\n",
    "        out.write(frame)\n",
    "        cv2.imshow(\"Video Output\", frame)\n",
    "\n",
    "        if cv2.waitKey(1) & 0xFF == ord('q'):\n",
    "            break\n",
    "        \n",
    "cap.release()\n",
    "out.release()\n",
    "# finally, close the window\n",
    "cv2.destroyAllWindows()"
   ]
  },
  {
   "cell_type": "code",
   "execution_count": null,
   "id": "7b621f77",
   "metadata": {},
   "outputs": [],
   "source": []
  }
 ],
 "metadata": {
  "kernelspec": {
   "display_name": "gputest",
   "language": "python",
   "name": "gputest"
  },
  "language_info": {
   "codemirror_mode": {
    "name": "ipython",
    "version": 3
   },
   "file_extension": ".py",
   "mimetype": "text/x-python",
   "name": "python",
   "nbconvert_exporter": "python",
   "pygments_lexer": "ipython3",
   "version": "3.6.13"
  }
 },
 "nbformat": 4,
 "nbformat_minor": 5
}
